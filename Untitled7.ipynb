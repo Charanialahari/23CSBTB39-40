{
  "nbformat": 4,
  "nbformat_minor": 0,
  "metadata": {
    "colab": {
      "provenance": [],
      "authorship_tag": "ABX9TyNAIhH5ddhRV48Bo99pNX3Z",
      "include_colab_link": true
    },
    "kernelspec": {
      "name": "python3",
      "display_name": "Python 3"
    },
    "language_info": {
      "name": "python"
    }
  },
  "cells": [
    {
      "cell_type": "markdown",
      "metadata": {
        "id": "view-in-github",
        "colab_type": "text"
      },
      "source": [
        "<a href=\"https://colab.research.google.com/github/Charanialahari/23CSBTB39-40/blob/main/Untitled7.ipynb\" target=\"_parent\"><img src=\"https://colab.research.google.com/assets/colab-badge.svg\" alt=\"Open In Colab\"/></a>"
      ]
    },
    {
      "cell_type": "code",
      "source": [
        "from collections import namedtuple,Counter,defaultdict #Fixed typo in collections module name\n",
        "import random\n",
        "import math\n",
        "import functools\n",
        "cache=functools.lru_cache(10**6)\n",
        "class Game:\n",
        "    def actions(self, state ):\n",
        "        \"\"\"Return a collection of the allowable moves from th is state.\"\"\"\n",
        "        raise NotImplementedError\n",
        "    def result(self, state , move ): # Removed extra indent\n",
        "        \"\"\"Return the state that results from making a move from a state .\"\"\"\n",
        "        raise NotImplementedError\n",
        "    def is_terminal (self, state ): # Removed extra indent\n",
        "        \"\"\"Return True i f this is a final state for the game.\"\"\" # Fixed indentation, added closing quotes\n",
        "        return not self.actions(state) # Fixed indentation\n",
        "    def utility(self, state , player ):\n",
        "         \"\"\"Return the value of this final state to player .\"\"\" # Fixed indentation, added closing quotes\n",
        "         raise NotImplementedError\n",
        "    def play_game (game , strategies : dict , verbose=False ): # Removed extra indent, fixed function name, added underscore\n",
        "        \"\"\"Play a turn−taking game. ‘strategies ‘ is a {player name: function} dict ,\n",
        "        where function(state , game) is used to get the player ’s move.\"\"\" # Fixed indentation, added closing quotes\n",
        "        state = game.initial\n",
        "        while not game. is_terminal (state ):\n",
        "            player = state. to_move # Added underscore to to_move, assuming it's an attribute\n",
        "            move = strategies [player ](game , state)\n",
        "            state = game.result(state , move)\n",
        "            if verbose:\n",
        "                print('Player', player , 'move:', move) # Replaced single quotes with double quotes for consistency\n",
        "                print(state)\n",
        "        return state"
      ],
      "metadata": {
        "id": "VLoxOJ_5NwC4"
      },
      "execution_count": 7,
      "outputs": []
    },
    {
      "cell_type": "code",
      "source": [
        "def alphabeta_search(game, state):\n",
        "    \"\"\"Search game to determine best action; use alpha-beta pruning.\n",
        "    Search all the way to the leaves. \"\"\"\n",
        "    player = state.to_move\n",
        "\n",
        "    def max_value(state, alpha, beta):\n",
        "        if game.is_terminal(state):\n",
        "            return game.utility(state, player), None\n",
        "        v, move = -float('inf'), None\n",
        "        for a in game.actions(state):\n",
        "            v2, _ = min_value(game.result(state, a), alpha, beta)\n",
        "            if v2 > v:\n",
        "                v, move = v2 , a\n",
        "            alpha = max(alpha , v)\n",
        "            if v >= beta:\n",
        "                return v, move\n",
        "        return v, move\n",
        "\n",
        "    def min_value (state , alpha , beta ):\n",
        "        if game. is_terminal (state ):\n",
        "            return game.utility(state , player), None\n",
        "        v, move = +infinity , None # Consider replacing +infinity with math.inf\n",
        "        for a in game.actions(state ):\n",
        "            v2 , _ = max_value (game.result(state , a), alpha , beta)\n",
        "            if v2 < v:\n",
        "                v, move = v2 , a\n",
        "            beta = min(beta , v)\n",
        "            if v <= alpha:\n",
        "                return v, move\n",
        "        return v, move # Uncommented the return statement\n",
        "\n",
        "    return max_value(state, -float('inf'), float('inf')) # Call max_value with initial alpha and beta values\n",
        ""
      ],
      "metadata": {
        "id": "y4Dn2cJvaJbz"
      },
      "execution_count": 11,
      "outputs": []
    },
    {
      "cell_type": "code",
      "source": [
        "class TicTacToe(Game):\n",
        "    \"\"\"Play TicTacToe on an ‘height ‘ by ‘width‘ board, needing ‘k ‘ in a row to win.\n",
        "    ’X’ plays first against ’O’ .\"\"\"\n",
        "    def _init_(self, height =3, width =3, k=3): # Added __ to make it a constructor\n",
        "        self.k = k  # k in a row\n",
        "        self.squares = {(x, y) for x in range(width) for y in range(height)}\n",
        "        self.initial = Board(height=height, width=width, to_move='X', utility=0) # Fixed spacing and variable names\n",
        "\n",
        "    def actions(self, board):\n",
        "        \"\"\"Legal moves are any square not yet taken.\"\"\"\n",
        "        return self.squares - set(board)\n",
        "\n",
        "    def result(self, board, square):\n",
        "        \"\"\"Place a marker for current player on square.\"\"\"\n",
        "        # Removed pass\n",
        "        player = board.to_move\n",
        "        board = board.new({square: player}, to_move=('O' if player == 'X' else 'X')) # Fixed spacing\n",
        "        win = self.k_in_row(board, player, square, self.k) # Call k_in_row method with self and correct arguments\n",
        "        board.utility = (0 if not win else +1 if player == 'X' else -1) # Fixed spacing\n",
        "        return board # Added return statement\n",
        "\n",
        "    def utility(self, board, player):\n",
        "        \"\"\"Return the value to player ; 1 for win, −1 for loss , 0 otherwise .\"\"\"\n",
        "        return board.utility if player == 'X' else -board.utility\n",
        "\n",
        "    def is_terminal(self, board):\n",
        "        \"\"\"A board is a terminal state if it is won or there are no empty squares.\"\"\"\n",
        "        return board.utility != 0 or len(self.squares) == len(board)\n",
        "\n",
        "    def display(self, board):\n",
        "        print(board) # Added indentation\n",
        "\n",
        "    def k_in_row(self, board, player, square, k):\n",
        "        \"\"\"True if player has k pieces in a line through square.\"\"\"\n",
        "        def in_row(x, y, dx, dy): # Corrected indentation\n",
        "            return 0 if board.get((x, y), None) != player else 1 + in_row(x + dx, y + dy, dx, dy)\n",
        "        return any(in_row(*square, dx, dy) + in_row(*square, -dx, -dy) - 1 >= k for (dx, dy) in ((0, 1), (1, 0), (1, 1), (1, -1))) # Corrected indentation\n",
        "\n",
        "class Board( defaultdict ): # Corrected indentation\n",
        "    \"\"\"A board has the player to move, a cached utility value,\n",
        "    #and a dict of {(x , y): player} entries , where player is ’X’ or ’O’ .\"\"\"\n",
        "    empty = '.'\n",
        "    off = '#'\n",
        "    #4\n",
        "    def _init_(self, width =8, height =8, to_move =None , **kwds ):\n",
        "      self.dict.update(width=width , height=height , to_move = to_move , **kwds)\n",
        "    def new(self, changes: dict , **kwds) -> 'Board':\n",
        "      \"Given a dict of {(x, y): contents} changes , return a new Board with the changes.\"\n",
        "      board = Board(width=self.width, height=self.height, **kwds)\n",
        "      board.update(self)\n",
        "      board.update(changes)\n",
        "      return board\n",
        "    def missing(self, loc ):\n",
        "        x, y = loc\n",
        "        if 0 <= x < self.width and 0 <= y < self.height:\n",
        "            return self.empty\n",
        "        else:\n",
        "            return self.off\n",
        "    def hash(self):\n",
        "        return hash(tuple(sorted(self.items()))) + hash(self.to_move)\n",
        "    def _repr_(self):\n",
        "        def row(y): return ' '.join(self[x, y] for x in range(self.width))\n",
        "        return '\\n'.join(map(row, range(self.height))) + '\\n'\n",
        "\n",
        "def random_player(game, state): return random.choice(list(game.actions(state)))\n",
        "def player( search_algorithm ):\n",
        "    \"\"\"A game player who uses the specified search algorithm\"\"\"\n",
        "    return lambda game , state: search_algorithm (game , state )[1]"
      ],
      "metadata": {
        "id": "TIwcgOXfaRJt"
      },
      "execution_count": 12,
      "outputs": []
    },
    {
      "cell_type": "code",
      "source": [],
      "metadata": {
        "id": "7VqrlnbyaOrW"
      },
      "execution_count": null,
      "outputs": []
    }
  ]
}